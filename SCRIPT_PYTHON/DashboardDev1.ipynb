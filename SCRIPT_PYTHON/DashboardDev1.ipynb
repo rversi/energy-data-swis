{
 "cells": [
  {
   "cell_type": "code",
   "execution_count": 1,
   "metadata": {
    "collapsed": true
   },
   "outputs": [],
   "source": [
    "import os\n",
    "import numpy as np\n",
    "import pandas as pd\n",
    "import plotly.plotly as py\n",
    "import plotly.graph_objs as go\n",
    "\n",
    "import dash\n",
    "import dash_core_components as dcc\n",
    "import dash_html_components as html"
   ]
  },
  {
   "cell_type": "code",
   "execution_count": 2,
   "metadata": {
    "collapsed": true
   },
   "outputs": [],
   "source": [
    "df_projects = pd.read_excel(os.path.join('../PRE_PROCESS_DATA/fake_data_travaux.xlsx'))"
   ]
  },
  {
   "cell_type": "code",
   "execution_count": null,
   "metadata": {
    "collapsed": true
   },
   "outputs": [],
   "source": [
    "data = dict(\n",
    "    type='sankey',\n",
    "    node = dict(\n",
    "      pad = 15,\n",
    "      thickness = 20,\n",
    "      line = dict(\n",
    "        color = \"black\",\n",
    "        width = 0.5\n",
    "      ),\n",
    "      label = [\"Fonds privés\", \"Subventions communales\", \"Incitations efficaces\", \"Incitations inefficaces\", \"Rénovations\", \"Nouvelles constructions\", \"Changements de système énergétique\", \"Minergie\", \"Minergie-P\", \"PAC\", \"CAD\", \"Bois\", \"Panneaux solaires th.\", \"Panneaux solaires PV\"],\n",
    "      color = [\"dodgerblue\", \"dodgerblue\", \"lightblue\", \"lightblue\", \"silver\", \"silver\", \"silver\", \"white\",\"white\",\"white\",\"white\",\"white\",\"white\",\"white\",]\n",
    "    ),\n",
    "    link = dict(\n",
    "      source = [0,0,1,1,2,2,2,3,3,3,4,4,5,5,6,6,6,6,6],\n",
    "      target = [2,3,2,3,4,5,6,4,5,6,7,8,7,8,9,10,11,12,13],\n",
    "      value = [80000,10000,40000,20000,20000,80000,20000,10000,10000,10000,30000,0,80000,10000,10000,10000,10000]\n",
    "  ))\n",
    "\n",
    "layout =  dict(\n",
    "    title = \"Investments Sankey Diagram\",\n",
    "    font = dict(\n",
    "      size = 12\n",
    "    )\n",
    ")\n",
    "\n",
    "fig = dict(data=[data], layout=layout)\n",
    "py.iplot(fig, validate=True)"
   ]
  },
  {
   "cell_type": "code",
   "execution_count": null,
   "metadata": {
    "collapsed": true
   },
   "outputs": [],
   "source": [
    "def generate_table(df, max_rows=5):\n",
    "    return html.Table(\n",
    "        # Header\n",
    "        [html.Tr([html.Th(col) for col in df.columns])] +\n",
    "\n",
    "        # Body\n",
    "        [html.Tr([\n",
    "            html.Td(df.iloc[i][col]) for col in df.columns\n",
    "        ]) for i in range(min(len(df), max_rows))]\n",
    "    )"
   ]
  },
  {
   "cell_type": "code",
   "execution_count": null,
   "metadata": {
    "collapsed": true
   },
   "outputs": [],
   "source": [
    "generate_table(df_city)"
   ]
  },
  {
   "cell_type": "code",
   "execution_count": null,
   "metadata": {
    "collapsed": true
   },
   "outputs": [],
   "source": [
    "sankey_data=[]*17\n",
    "sankey_data=[80000,10000,40000,20000,20000,80000,20000,10000,10000,10000,30000,0,80000,10000,10000,10000,10000]\n",
    "sk=pd.DataFrame(sankey_data)\n",
    "sk.columns=['2018']"
   ]
  },
  {
   "cell_type": "code",
   "execution_count": null,
   "metadata": {
    "collapsed": true
   },
   "outputs": [],
   "source": [
    "sankey_data=[80000,10000,40000,20000,20000,80000,20000,10000,10000,10000,30000,0,80000,10000,10000,10000,10000]"
   ]
  },
  {
   "cell_type": "code",
   "execution_count": null,
   "metadata": {
    "collapsed": true
   },
   "outputs": [],
   "source": [
    "pd.DataFrame(sankey_data)"
   ]
  },
  {
   "cell_type": "code",
   "execution_count": 4,
   "metadata": {
    "collapsed": true
   },
   "outputs": [],
   "source": [
    "df = pd.read_excel(os.path.join('../PRE_PROCESS_DATA/fake_city_data.xlsx'), sheetname='Données')\n",
    "dff = pd.read_excel(os.path.join('../PRE_PROCESS_DATA/fake_city_data.xlsx'), sheetname='Indicateurs')"
   ]
  },
  {
   "cell_type": "code",
   "execution_count": 8,
   "metadata": {
    "collapsed": true
   },
   "outputs": [],
   "source": [
    "a=dff.columns.tolist()\n",
    "table=pd.DataFrame(a)"
   ]
  },
  {
   "cell_type": "code",
   "execution_count": 9,
   "metadata": {},
   "outputs": [
    {
     "data": {
      "text/html": [
       "<div>\n",
       "<style>\n",
       "    .dataframe thead tr:only-child th {\n",
       "        text-align: right;\n",
       "    }\n",
       "\n",
       "    .dataframe thead th {\n",
       "        text-align: left;\n",
       "    }\n",
       "\n",
       "    .dataframe tbody tr th {\n",
       "        vertical-align: top;\n",
       "    }\n",
       "</style>\n",
       "<table border=\"1\" class=\"dataframe\">\n",
       "  <thead>\n",
       "    <tr style=\"text-align: right;\">\n",
       "      <th></th>\n",
       "      <th>0</th>\n",
       "    </tr>\n",
       "  </thead>\n",
       "  <tbody>\n",
       "    <tr>\n",
       "      <th>0</th>\n",
       "      <td>Année</td>\n",
       "    </tr>\n",
       "    <tr>\n",
       "      <th>1</th>\n",
       "      <td>kWh économisés</td>\n",
       "    </tr>\n",
       "    <tr>\n",
       "      <th>2</th>\n",
       "      <td>t. CO2 économisées</td>\n",
       "    </tr>\n",
       "    <tr>\n",
       "      <th>3</th>\n",
       "      <td>IDC Global</td>\n",
       "    </tr>\n",
       "    <tr>\n",
       "      <th>4</th>\n",
       "      <td>kWh/CHF subv.</td>\n",
       "    </tr>\n",
       "    <tr>\n",
       "      <th>5</th>\n",
       "      <td>t. CO2/CHF subv.</td>\n",
       "    </tr>\n",
       "    <tr>\n",
       "      <th>6</th>\n",
       "      <td>Taux subventionnement</td>\n",
       "    </tr>\n",
       "    <tr>\n",
       "      <th>7</th>\n",
       "      <td>% Aubaine</td>\n",
       "    </tr>\n",
       "  </tbody>\n",
       "</table>\n",
       "</div>"
      ],
      "text/plain": [
       "                       0\n",
       "0                  Année\n",
       "1         kWh économisés\n",
       "2     t. CO2 économisées\n",
       "3             IDC Global\n",
       "4          kWh/CHF subv.\n",
       "5       t. CO2/CHF subv.\n",
       "6  Taux subventionnement\n",
       "7              % Aubaine"
      ]
     },
     "execution_count": 9,
     "metadata": {},
     "output_type": "execute_result"
    }
   ],
   "source": [
    "table"
   ]
  },
  {
   "cell_type": "code",
   "execution_count": 14,
   "metadata": {
    "collapsed": true
   },
   "outputs": [],
   "source": [
    "year=2018\n",
    "a1=dff[dff['Année']==year]\n",
    "a=a1.iloc[:,1]"
   ]
  },
  {
   "cell_type": "code",
   "execution_count": 13,
   "metadata": {},
   "outputs": [
    {
     "data": {
      "text/html": [
       "<div>\n",
       "<style>\n",
       "    .dataframe thead tr:only-child th {\n",
       "        text-align: right;\n",
       "    }\n",
       "\n",
       "    .dataframe thead th {\n",
       "        text-align: left;\n",
       "    }\n",
       "\n",
       "    .dataframe tbody tr th {\n",
       "        vertical-align: top;\n",
       "    }\n",
       "</style>\n",
       "<table border=\"1\" class=\"dataframe\">\n",
       "  <thead>\n",
       "    <tr style=\"text-align: right;\">\n",
       "      <th></th>\n",
       "      <th>0</th>\n",
       "    </tr>\n",
       "  </thead>\n",
       "  <tbody>\n",
       "    <tr>\n",
       "      <th>0</th>\n",
       "      <td>Année</td>\n",
       "    </tr>\n",
       "    <tr>\n",
       "      <th>1</th>\n",
       "      <td>kWh économisés</td>\n",
       "    </tr>\n",
       "    <tr>\n",
       "      <th>2</th>\n",
       "      <td>t. CO2 économisées</td>\n",
       "    </tr>\n",
       "    <tr>\n",
       "      <th>3</th>\n",
       "      <td>IDC Global</td>\n",
       "    </tr>\n",
       "    <tr>\n",
       "      <th>4</th>\n",
       "      <td>kWh/CHF subv.</td>\n",
       "    </tr>\n",
       "    <tr>\n",
       "      <th>5</th>\n",
       "      <td>t. CO2/CHF subv.</td>\n",
       "    </tr>\n",
       "    <tr>\n",
       "      <th>6</th>\n",
       "      <td>Taux subventionnement</td>\n",
       "    </tr>\n",
       "    <tr>\n",
       "      <th>7</th>\n",
       "      <td>% Aubaine</td>\n",
       "    </tr>\n",
       "  </tbody>\n",
       "</table>\n",
       "</div>"
      ],
      "text/plain": [
       "                       0\n",
       "0                  Année\n",
       "1         kWh économisés\n",
       "2     t. CO2 économisées\n",
       "3             IDC Global\n",
       "4          kWh/CHF subv.\n",
       "5       t. CO2/CHF subv.\n",
       "6  Taux subventionnement\n",
       "7              % Aubaine"
      ]
     },
     "execution_count": 13,
     "metadata": {},
     "output_type": "execute_result"
    }
   ],
   "source": [
    "table"
   ]
  },
  {
   "cell_type": "code",
   "execution_count": 19,
   "metadata": {
    "collapsed": true
   },
   "outputs": [],
   "source": [
    "z=a1.T"
   ]
  },
  {
   "cell_type": "code",
   "execution_count": 16,
   "metadata": {},
   "outputs": [
    {
     "data": {
      "text/html": [
       "<div>\n",
       "<style>\n",
       "    .dataframe thead tr:only-child th {\n",
       "        text-align: right;\n",
       "    }\n",
       "\n",
       "    .dataframe thead th {\n",
       "        text-align: left;\n",
       "    }\n",
       "\n",
       "    .dataframe tbody tr th {\n",
       "        vertical-align: top;\n",
       "    }\n",
       "</style>\n",
       "<table border=\"1\" class=\"dataframe\">\n",
       "  <thead>\n",
       "    <tr style=\"text-align: right;\">\n",
       "      <th></th>\n",
       "      <th>Année</th>\n",
       "      <th>kWh économisés</th>\n",
       "      <th>t. CO2 économisées</th>\n",
       "      <th>IDC Global</th>\n",
       "      <th>kWh/CHF subv.</th>\n",
       "      <th>t. CO2/CHF subv.</th>\n",
       "      <th>Taux subventionnement</th>\n",
       "      <th>% Aubaine</th>\n",
       "    </tr>\n",
       "  </thead>\n",
       "  <tbody>\n",
       "    <tr>\n",
       "      <th>0</th>\n",
       "      <td>2018</td>\n",
       "      <td>1230</td>\n",
       "      <td>451</td>\n",
       "      <td>423.529412</td>\n",
       "      <td>0.013667</td>\n",
       "      <td>0.005011</td>\n",
       "      <td>0.080</td>\n",
       "      <td>0.30</td>\n",
       "    </tr>\n",
       "    <tr>\n",
       "      <th>1</th>\n",
       "      <td>2017</td>\n",
       "      <td>1142</td>\n",
       "      <td>652</td>\n",
       "      <td>432.000000</td>\n",
       "      <td>0.012689</td>\n",
       "      <td>0.007244</td>\n",
       "      <td>0.067</td>\n",
       "      <td>0.28</td>\n",
       "    </tr>\n",
       "    <tr>\n",
       "      <th>2</th>\n",
       "      <td>2016</td>\n",
       "      <td>1023</td>\n",
       "      <td>362</td>\n",
       "      <td>438.619701</td>\n",
       "      <td>0.011367</td>\n",
       "      <td>0.004022</td>\n",
       "      <td>0.071</td>\n",
       "      <td>0.26</td>\n",
       "    </tr>\n",
       "    <tr>\n",
       "      <th>3</th>\n",
       "      <td>2015</td>\n",
       "      <td>963</td>\n",
       "      <td>444</td>\n",
       "      <td>433.718797</td>\n",
       "      <td>0.010700</td>\n",
       "      <td>0.004933</td>\n",
       "      <td>0.080</td>\n",
       "      <td>0.31</td>\n",
       "    </tr>\n",
       "  </tbody>\n",
       "</table>\n",
       "</div>"
      ],
      "text/plain": [
       "   Année  kWh économisés  t. CO2 économisées  IDC Global  kWh/CHF subv.  \\\n",
       "0   2018            1230                 451  423.529412       0.013667   \n",
       "1   2017            1142                 652  432.000000       0.012689   \n",
       "2   2016            1023                 362  438.619701       0.011367   \n",
       "3   2015             963                 444  433.718797       0.010700   \n",
       "\n",
       "   t. CO2/CHF subv.  Taux subventionnement  % Aubaine  \n",
       "0          0.005011                  0.080       0.30  \n",
       "1          0.007244                  0.067       0.28  \n",
       "2          0.004022                  0.071       0.26  \n",
       "3          0.004933                  0.080       0.31  "
      ]
     },
     "execution_count": 16,
     "metadata": {},
     "output_type": "execute_result"
    }
   ],
   "source": [
    "dff"
   ]
  },
  {
   "cell_type": "code",
   "execution_count": 26,
   "metadata": {},
   "outputs": [
    {
     "data": {
      "text/plain": [
       "{0: {'% Aubaine': 0.29999999999999999,\n",
       "  'Année': 2018.0,\n",
       "  'IDC Global': 423.52941176470586,\n",
       "  'Taux subventionnement': 0.080000000000000002,\n",
       "  'kWh économisés': 1230.0,\n",
       "  'kWh/CHF subv.': 0.013666666666666667,\n",
       "  't. CO2 économisées': 451.0,\n",
       "  't. CO2/CHF subv.': 0.0050111111111111111}}"
      ]
     },
     "execution_count": 26,
     "metadata": {},
     "output_type": "execute_result"
    }
   ],
   "source": [
    "z.to_dict()"
   ]
  },
  {
   "cell_type": "code",
   "execution_count": 39,
   "metadata": {
    "collapsed": true
   },
   "outputs": [],
   "source": [
    "table=dff[dff['Année']==year]\n",
    "table=table.T\n",
    "table.reset_index(inplace=True)\n",
    "table.rename(columns={'index':'Indicateurs',0:'Valeurs'}, inplace=True)"
   ]
  },
  {
   "cell_type": "code",
   "execution_count": 40,
   "metadata": {},
   "outputs": [
    {
     "data": {
      "text/html": [
       "<div>\n",
       "<style>\n",
       "    .dataframe thead tr:only-child th {\n",
       "        text-align: right;\n",
       "    }\n",
       "\n",
       "    .dataframe thead th {\n",
       "        text-align: left;\n",
       "    }\n",
       "\n",
       "    .dataframe tbody tr th {\n",
       "        vertical-align: top;\n",
       "    }\n",
       "</style>\n",
       "<table border=\"1\" class=\"dataframe\">\n",
       "  <thead>\n",
       "    <tr style=\"text-align: right;\">\n",
       "      <th></th>\n",
       "      <th>Indicateurs</th>\n",
       "      <th>Valeurs</th>\n",
       "    </tr>\n",
       "  </thead>\n",
       "  <tbody>\n",
       "    <tr>\n",
       "      <th>0</th>\n",
       "      <td>Année</td>\n",
       "      <td>2018.000000</td>\n",
       "    </tr>\n",
       "    <tr>\n",
       "      <th>1</th>\n",
       "      <td>kWh économisés</td>\n",
       "      <td>1230.000000</td>\n",
       "    </tr>\n",
       "    <tr>\n",
       "      <th>2</th>\n",
       "      <td>t. CO2 économisées</td>\n",
       "      <td>451.000000</td>\n",
       "    </tr>\n",
       "    <tr>\n",
       "      <th>3</th>\n",
       "      <td>IDC Global</td>\n",
       "      <td>423.529412</td>\n",
       "    </tr>\n",
       "    <tr>\n",
       "      <th>4</th>\n",
       "      <td>kWh/CHF subv.</td>\n",
       "      <td>0.013667</td>\n",
       "    </tr>\n",
       "    <tr>\n",
       "      <th>5</th>\n",
       "      <td>t. CO2/CHF subv.</td>\n",
       "      <td>0.005011</td>\n",
       "    </tr>\n",
       "    <tr>\n",
       "      <th>6</th>\n",
       "      <td>Taux subventionnement</td>\n",
       "      <td>0.080000</td>\n",
       "    </tr>\n",
       "    <tr>\n",
       "      <th>7</th>\n",
       "      <td>% Aubaine</td>\n",
       "      <td>0.300000</td>\n",
       "    </tr>\n",
       "  </tbody>\n",
       "</table>\n",
       "</div>"
      ],
      "text/plain": [
       "             Indicateurs      Valeurs\n",
       "0                  Année  2018.000000\n",
       "1         kWh économisés  1230.000000\n",
       "2     t. CO2 économisées   451.000000\n",
       "3             IDC Global   423.529412\n",
       "4          kWh/CHF subv.     0.013667\n",
       "5       t. CO2/CHF subv.     0.005011\n",
       "6  Taux subventionnement     0.080000\n",
       "7              % Aubaine     0.300000"
      ]
     },
     "execution_count": 40,
     "metadata": {},
     "output_type": "execute_result"
    }
   ],
   "source": [
    "table"
   ]
  },
  {
   "cell_type": "code",
   "execution_count": null,
   "metadata": {
    "collapsed": true
   },
   "outputs": [],
   "source": []
  }
 ],
 "metadata": {
  "kernelspec": {
   "display_name": "Python 3",
   "language": "python",
   "name": "python3"
  },
  "language_info": {
   "codemirror_mode": {
    "name": "ipython",
    "version": 3
   },
   "file_extension": ".py",
   "mimetype": "text/x-python",
   "name": "python",
   "nbconvert_exporter": "python",
   "pygments_lexer": "ipython3",
   "version": "3.6.2"
  }
 },
 "nbformat": 4,
 "nbformat_minor": 2
}
